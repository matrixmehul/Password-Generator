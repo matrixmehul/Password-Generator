{
 "cells": [
  {
   "cell_type": "code",
   "execution_count": 1,
   "metadata": {},
   "outputs": [],
   "source": [
    "# Import libraries\n",
    "\n",
    "from tkinter import *\n",
    "import random , string\n",
    "import pyperclip"
   ]
  },
  {
   "cell_type": "code",
   "execution_count": 2,
   "metadata": {},
   "outputs": [],
   "source": [
    "# Initialize Window\n",
    "\n",
    "root = Tk()\n",
    "\n",
    "root.geometry('400x400')\n",
    "root.resizable(0,0)\n",
    "root.title(\"Password Generator\")\n",
    "\n",
    "Label(root, text = 'PASSWORD GENERATOR', font = 'arial 15 bold' , bg= 'light blue').pack()\n",
    "Label(root, text = 'Mehul Product', font = 'arial 15 bold').pack(side = BOTTOM)"
   ]
  },
  {
   "cell_type": "code",
   "execution_count": 3,
   "metadata": {},
   "outputs": [],
   "source": [
    "# Selcet Password Length\n",
    "\n",
    "pass_label = Label(root, text = 'Password length', font = 'arial 10 bold').pack()\n",
    "pass_len = IntVar()\n",
    "length = Spinbox(root, from_ = 8, to_ =30, textvariable = pass_len , width = 15).pack()\n",
    "\n",
    "# pass_len is an integer type variable that stores the length of a password.\n",
    "# To select the password length we use Spinbox() widget.\n",
    "# Spinbox() widget is used to select from a fixed number of values. Here the value from 8 to 32"
   ]
  },
  {
   "cell_type": "code",
   "execution_count": 4,
   "metadata": {},
   "outputs": [
    {
     "data": {
      "text/plain": [
       "'pass_str is a string type variable that stores the generated password\\n\\npassword = “” is the empty string\\n\\nFirst loop will generate a string of length 4 which is a combination of an uppercase letter, \\na lowercase letter, digits, and a special symbol and that string will store in password variable.\\n\\nThe second loop will generate a random string of length entered by the user – 4 \\nand add to the password variable. Here we minus 4 to the length of the user\\nbecause we already generate the string of length 4.'"
      ]
     },
     "execution_count": 4,
     "metadata": {},
     "output_type": "execute_result"
    }
   ],
   "source": [
    "# Function Genrate Password\n",
    "\n",
    "pass_str = StringVar()\n",
    "def Generator():\n",
    "    password = ''\n",
    "    \n",
    "    for x in range (0,4):\n",
    "        password = random.choice(string.ascii_uppercase)+random.choice(string.ascii_lowercase)+random.choice(string.digits)+random.choice(string.punctuation)\n",
    "     \n",
    "    for y in range (pass_len.get()-4):\n",
    "        password = password + random.choice(string.ascii_uppercase + string.ascii_lowercase + string.digits + string.punctuation)\n",
    "        \n",
    "    pass_str.set(password)\n",
    "    \n",
    "    \n",
    "    \n",
    "    \n",
    "'''pass_str is a string type variable that stores the generated password\n",
    "\n",
    "password = “” is the empty string\n",
    "\n",
    "First loop will generate a string of length 4 which is a combination of an uppercase letter, \n",
    "a lowercase letter, digits, and a special symbol and that string will store in password variable.\n",
    "\n",
    "The second loop will generate a random string of length entered by the user – 4 \n",
    "and add to the password variable. Here we minus 4 to the length of the user\n",
    "because we already generate the string of length 4.'''"
   ]
  },
  {
   "cell_type": "code",
   "execution_count": 5,
   "metadata": {},
   "outputs": [],
   "source": [
    "Button(root,text = 'Generate Password', command = Generator).pack(pady=5)\n",
    "Entry(root,textvariable = pass_str).pack()"
   ]
  },
  {
   "cell_type": "code",
   "execution_count": 6,
   "metadata": {},
   "outputs": [],
   "source": [
    "def Copy_password():\n",
    "    pyperclip.copy(pass_str.get())\n",
    "\n",
    "Button(root,text = \"Copy to Clipboard\", command = Copy_password).pack(pady=5)\n",
    "\n",
    "root.mainloop()"
   ]
  },
  {
   "cell_type": "code",
   "execution_count": null,
   "metadata": {},
   "outputs": [],
   "source": []
  },
  {
   "cell_type": "code",
   "execution_count": null,
   "metadata": {},
   "outputs": [],
   "source": []
  },
  {
   "cell_type": "code",
   "execution_count": null,
   "metadata": {},
   "outputs": [],
   "source": []
  },
  {
   "cell_type": "code",
   "execution_count": null,
   "metadata": {},
   "outputs": [],
   "source": []
  },
  {
   "cell_type": "code",
   "execution_count": null,
   "metadata": {},
   "outputs": [],
   "source": []
  }
 ],
 "metadata": {
  "kernelspec": {
   "display_name": "Python 3",
   "language": "python",
   "name": "python3"
  },
  "language_info": {
   "codemirror_mode": {
    "name": "ipython",
    "version": 3
   },
   "file_extension": ".py",
   "mimetype": "text/x-python",
   "name": "python",
   "nbconvert_exporter": "python",
   "pygments_lexer": "ipython3",
   "version": "3.7.4"
  }
 },
 "nbformat": 4,
 "nbformat_minor": 2
}
